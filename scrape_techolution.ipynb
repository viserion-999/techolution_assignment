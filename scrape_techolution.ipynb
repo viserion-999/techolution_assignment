{
 "cells": [
  {
   "cell_type": "markdown",
   "metadata": {},
   "source": [
    "## Scraping JOB Postings from techolution"
   ]
  },
  {
   "cell_type": "markdown",
   "metadata": {},
   "source": [
    "### Link: https://techolution.app.param.ai/jobs/"
   ]
  },
  {
   "cell_type": "markdown",
   "metadata": {},
   "source": [
    "## <font color='blue'>Steps</font>\n",
    "1. I used chromedriver to fetch the webpage.\n",
    "2. Then, I used beautiful soup to parse the webpage to get the required job list.\n",
    "3. Fetching each job's info, I store it in a seperate list and then add it to a dataframe.\n",
    "4. Finally, I sort the dataframe based on job of posting.\n",
    "5. In the end, I export the dataframe to a csv file."
   ]
  },
  {
   "cell_type": "markdown",
   "metadata": {},
   "source": [
    "### <font color='blue'> First, import the required libraries </font>"
   ]
  },
  {
   "cell_type": "code",
   "execution_count": 1,
   "metadata": {},
   "outputs": [],
   "source": [
    "from selenium import webdriver\n",
    "import os\n",
    "from bs4 import BeautifulSoup\n",
    "import pandas as pd\n",
    "import re\n",
    "import numpy as np"
   ]
  },
  {
   "cell_type": "markdown",
   "metadata": {},
   "source": [
    "### <font color='blue'> We initialize empty arrays and an empty dataframe.</font>"
   ]
  },
  {
   "cell_type": "code",
   "execution_count": 2,
   "metadata": {},
   "outputs": [],
   "source": [
    "job_name = []\n",
    "date_posted = []\n",
    "job_info = []\n",
    "job_loc = []\n",
    "job_exp = []\n",
    "job_type= []\n",
    "job_tln = pd.DataFrame()"
   ]
  },
  {
   "cell_type": "markdown",
   "metadata": {},
   "source": [
    "<font color='blue'> \n",
    "Since the website is dynamic, we cannot fetch data statically. \n",
    "\n",
    "So, I used **chrome driver**\n",
    "\n",
    "Make sure chrome driver is installed and is in the correct path using the below code. \n",
    "\n",
    "I installed chromedriver in the current working directory itself.(Shown below)\n",
    "</font>"
   ]
  },
  {
   "cell_type": "code",
   "execution_count": 3,
   "metadata": {},
   "outputs": [
    {
     "name": "stdout",
     "output_type": "stream",
     "text": [
      "/Volumes/ANAGHA/techolution_assignment\n"
     ]
    }
   ],
   "source": [
    "DRIVER_PATH = os.path.join(os.getcwd())\n",
    "print(DRIVER_PATH)"
   ]
  },
  {
   "cell_type": "code",
   "execution_count": 4,
   "metadata": {},
   "outputs": [],
   "source": [
    "driver_path = ''\n",
    "\n",
    "if os.name == 'nt':\n",
    "\tdriver_path = os.path.join(DRIVER_PATH,'chromedriver.exe')\n",
    "elif os.name == 'posix':\n",
    "\tdriver_path = os.path.join(DRIVER_PATH,'chromedriver')\n",
    "else:\n",
    "\tdriver_path = None"
   ]
  },
  {
   "cell_type": "markdown",
   "metadata": {},
   "source": [
    "<font color='blue'>\n",
    "After fetching the webpage using webdrivers' get method, I used beautiful soup to parse the html.\n",
    "</font>"
   ]
  },
  {
   "cell_type": "code",
   "execution_count": 5,
   "metadata": {},
   "outputs": [],
   "source": [
    "driver = webdriver.Chrome(executable_path=driver_path)\n",
    "url ='https://techolution.app.param.ai/jobs/'\n",
    "driver.get(url)\n",
    "html = driver.page_source\n",
    "soup = BeautifulSoup(html)"
   ]
  },
  {
   "cell_type": "markdown",
   "metadata": {},
   "source": [
    "\n",
    "<font color='blue'>\n",
    "Upon inspection we see that the div with id joblist has the infomation. So,\n",
    "Here, using the scraped soup object, I found the div tag with the id - joblist which has our required job information\n",
    "</font>"
   ]
  },
  {
   "cell_type": "code",
   "execution_count": 6,
   "metadata": {},
   "outputs": [],
   "source": [
    "data= soup.find('div', {'id': 'joblist'})"
   ]
  },
  {
   "cell_type": "markdown",
   "metadata": {},
   "source": [
    "## h3 contains the job names so I extract them using beautiful soup.\n",
    "\n",
    "<font color='blue'>\n",
    "I then, append all the jobnames to a list - job_names     \n",
    "</font>\n"
   ]
  },
  {
   "cell_type": "code",
   "execution_count": 7,
   "metadata": {},
   "outputs": [],
   "source": [
    "for jn in data.find_all('h3'):\n",
    "    temp = jn.get_text()\n",
    "    job_name.append(temp)\n"
   ]
  },
  {
   "cell_type": "code",
   "execution_count": 31,
   "metadata": {},
   "outputs": [
    {
     "data": {
      "text/plain": [
       "['Big Data Intern',\n",
       " 'Senior Cloud Specialist',\n",
       " 'Cloud Native Developer',\n",
       " 'Data Scientist Intern',\n",
       " 'Embedded Engineer',\n",
       " 'Networking & Security Specialist',\n",
       " 'System Engineer',\n",
       " 'Associate QA Engineer',\n",
       " 'Solution Architect',\n",
       " 'Sr. Microservices Developer',\n",
       " 'SOA Consultant',\n",
       " 'Android Mobile Developer',\n",
       " 'Associate Cloud Engineer',\n",
       " 'Sr Full Stack Developer',\n",
       " 'Sr SAP PI/PO Developer',\n",
       " 'Blockchain Developer',\n",
       " 'Junior Cloud Native Developer',\n",
       " 'Senior DevOps Engineer',\n",
       " 'Lead DevOps Engineer ',\n",
       " 'Site Reliability Engineer',\n",
       " 'OSS DevOps Engineer',\n",
       " 'Sr SDET',\n",
       " 'Engineering Lead',\n",
       " 'Machine Learning Engineer']"
      ]
     },
     "execution_count": 31,
     "metadata": {},
     "output_type": "execute_result"
    }
   ],
   "source": [
    "job_name"
   ]
  },
  {
   "cell_type": "markdown",
   "metadata": {},
   "source": [
    "### Extracting the date of job posting. \n",
    "\n",
    "<font color='blue'>\n",
    "After extracting, I append the dates of posting to date_posted list\n",
    "</font>"
   ]
  },
  {
   "cell_type": "code",
   "execution_count": 8,
   "metadata": {},
   "outputs": [],
   "source": [
    "dt = data.find_all(\"div\", {\"class\": \"four wide right aligned computer tablet only column\"}) \n",
    "\n",
    "for tag in dt:   \n",
    "    temp = tag.get_text()\n",
    "    date_posted.append(temp)\n",
    "    "
   ]
  },
  {
   "cell_type": "code",
   "execution_count": 30,
   "metadata": {},
   "outputs": [
    {
     "data": {
      "text/plain": [
       "['6 days ago',\n",
       " '10 days ago',\n",
       " '11 days ago',\n",
       " '13 days ago',\n",
       " '14 days ago',\n",
       " '19 days ago',\n",
       " '19 days ago',\n",
       " '20 days ago',\n",
       " '20 days ago',\n",
       " 'a month ago',\n",
       " 'a month ago',\n",
       " 'a month ago',\n",
       " 'a month ago',\n",
       " 'a month ago',\n",
       " 'a month ago',\n",
       " 'a month ago',\n",
       " '2 months ago',\n",
       " '2 months ago',\n",
       " '2 months ago',\n",
       " '2 months ago',\n",
       " '2 months ago',\n",
       " '2 months ago',\n",
       " '2 months ago',\n",
       " '2 months ago']"
      ]
     },
     "execution_count": 30,
     "metadata": {},
     "output_type": "execute_result"
    }
   ],
   "source": [
    "date_posted"
   ]
  },
  {
   "cell_type": "markdown",
   "metadata": {},
   "source": [
    "### Extracting Job Info which inclues \n",
    "#### job type- [internship, full time etc]\n",
    "#### job location [hyderabad, newyork, newjersey etc]\n",
    "#### experience required - range of values. eg: 2- 3 years\n",
    "\n",
    "<font color='blue'>\n",
    "I get a nd array containing jobtype, job location and experience required\n",
    "</font>"
   ]
  },
  {
   "cell_type": "code",
   "execution_count": 9,
   "metadata": {},
   "outputs": [],
   "source": [
    "info = data.find_all(\"div\", {\"class\": \"twelve wide computer twelve wide tablet sixteen wide mobile column\"}) \n",
    "for tag in info:\n",
    "    temp = re.sub(r\"[\\n\\t\\s]*\", \"\", tag.find('p').text)\n",
    "    temp1 = [x.strip() for x in temp.split('·')]\n",
    "    job_info.append(temp1)\n",
    "    \n",
    "job_info = np.asarray(job_info)"
   ]
  },
  {
   "cell_type": "code",
   "execution_count": 11,
   "metadata": {},
   "outputs": [
    {
     "data": {
      "text/plain": [
       "array([['Internship', 'Hyderabad', '0-2Years'],\n",
       "       ['Full-time', 'Singapore', '5-10Years'],\n",
       "       ['Full-time', 'Hyderabad', '2-5Years'],\n",
       "       ['Internship', 'Hyderabad', '0-4Years'],\n",
       "       ['Full-time', 'Hyderabad', '2-4Years'],\n",
       "       ['Full-time', 'Hyderabad', '2-6Years'],\n",
       "       ['Internship', 'Mauritius', '0-1Years'],\n",
       "       ['Full-time', 'Hyderabad', '1-3Years'],\n",
       "       ['Full-time', 'Hyderabad', '9-15Years'],\n",
       "       ['Full-time', 'Hyderabad', '4-9Years'],\n",
       "       ['Full-time', 'Hyderabad', '0-1Years'],\n",
       "       ['Full-time', 'mauritius', '3-8Years'],\n",
       "       ['Full-time', 'Hyderabad', '0-3Years'],\n",
       "       ['Full-time', 'Mauritius', '3-8Years'],\n",
       "       ['Contract', 'NewJersey', '7-12Years'],\n",
       "       ['Full-time', 'Hyderabad', '1-4Years'],\n",
       "       ['Full-time', 'Delaware', '1-2Years'],\n",
       "       ['Full-time', 'Hyderabad', '3-10Years'],\n",
       "       ['Full-time', 'Hyderabad', '5-11Years'],\n",
       "       ['Full-time', 'NewYork', '1-3Years'],\n",
       "       ['Full-time', 'Hyderabad', '6-12Years'],\n",
       "       ['Full-time', 'NewYork', '3-10Years'],\n",
       "       ['Full-time', 'Mauritius', '7-18Years'],\n",
       "       ['Full-time', 'Hyderabad', '3-5Years']], dtype='<U10')"
      ]
     },
     "execution_count": 11,
     "metadata": {},
     "output_type": "execute_result"
    }
   ],
   "source": [
    "job_info"
   ]
  },
  {
   "cell_type": "markdown",
   "metadata": {},
   "source": [
    "### We add all the obtained values as columns in the dataframe 'job_tln'\n",
    "\n",
    "<font color='blue'>\n",
    "In this step, I add my obtained lists to the job_tln dataframe\n",
    "</font>"
   ]
  },
  {
   "cell_type": "code",
   "execution_count": 23,
   "metadata": {},
   "outputs": [],
   "source": [
    "job_tln['job_name'] = job_name\n",
    "job_tln['date_posted'] = date_posted\n",
    "job_tln['job_type'] = job_info[:,0]\n",
    "job_tln['job_loc'] = job_info[:,1]\n",
    "job_tln['exp'] = job_info[:,2]"
   ]
  },
  {
   "cell_type": "code",
   "execution_count": 24,
   "metadata": {},
   "outputs": [
    {
     "data": {
      "text/html": [
       "<div>\n",
       "<style scoped>\n",
       "    .dataframe tbody tr th:only-of-type {\n",
       "        vertical-align: middle;\n",
       "    }\n",
       "\n",
       "    .dataframe tbody tr th {\n",
       "        vertical-align: top;\n",
       "    }\n",
       "\n",
       "    .dataframe thead th {\n",
       "        text-align: right;\n",
       "    }\n",
       "</style>\n",
       "<table border=\"1\" class=\"dataframe\">\n",
       "  <thead>\n",
       "    <tr style=\"text-align: right;\">\n",
       "      <th></th>\n",
       "      <th>job_name</th>\n",
       "      <th>date_posted</th>\n",
       "      <th>job_type</th>\n",
       "      <th>job_loc</th>\n",
       "      <th>exp</th>\n",
       "    </tr>\n",
       "  </thead>\n",
       "  <tbody>\n",
       "    <tr>\n",
       "      <th>23</th>\n",
       "      <td>Big Data Intern</td>\n",
       "      <td>6 days ago</td>\n",
       "      <td>Internship</td>\n",
       "      <td>Hyderabad</td>\n",
       "      <td>0-2Years</td>\n",
       "    </tr>\n",
       "    <tr>\n",
       "      <th>22</th>\n",
       "      <td>Senior Cloud Specialist</td>\n",
       "      <td>10 days ago</td>\n",
       "      <td>Full-time</td>\n",
       "      <td>Singapore</td>\n",
       "      <td>5-10Years</td>\n",
       "    </tr>\n",
       "    <tr>\n",
       "      <th>21</th>\n",
       "      <td>Cloud Native Developer</td>\n",
       "      <td>11 days ago</td>\n",
       "      <td>Full-time</td>\n",
       "      <td>Hyderabad</td>\n",
       "      <td>2-5Years</td>\n",
       "    </tr>\n",
       "    <tr>\n",
       "      <th>20</th>\n",
       "      <td>Data Scientist Intern</td>\n",
       "      <td>13 days ago</td>\n",
       "      <td>Internship</td>\n",
       "      <td>Hyderabad</td>\n",
       "      <td>0-4Years</td>\n",
       "    </tr>\n",
       "    <tr>\n",
       "      <th>19</th>\n",
       "      <td>Embedded Engineer</td>\n",
       "      <td>14 days ago</td>\n",
       "      <td>Full-time</td>\n",
       "      <td>Hyderabad</td>\n",
       "      <td>2-4Years</td>\n",
       "    </tr>\n",
       "  </tbody>\n",
       "</table>\n",
       "</div>"
      ],
      "text/plain": [
       "                   job_name  date_posted    job_type    job_loc        exp\n",
       "23          Big Data Intern   6 days ago  Internship  Hyderabad   0-2Years\n",
       "22  Senior Cloud Specialist  10 days ago   Full-time  Singapore  5-10Years\n",
       "21   Cloud Native Developer  11 days ago   Full-time  Hyderabad   2-5Years\n",
       "20    Data Scientist Intern  13 days ago  Internship  Hyderabad   0-4Years\n",
       "19        Embedded Engineer  14 days ago   Full-time  Hyderabad   2-4Years"
      ]
     },
     "execution_count": 24,
     "metadata": {},
     "output_type": "execute_result"
    }
   ],
   "source": [
    "#head to see some values.\n",
    "job_tln.head()"
   ]
  },
  {
   "cell_type": "markdown",
   "metadata": {},
   "source": [
    "***\n",
    "***\n",
    "***\n",
    "### Sorting by Date of Posting"
   ]
  },
  {
   "cell_type": "markdown",
   "metadata": {},
   "source": [
    "<font color='blue'>\n",
    "There was a lot of difference in the way date of posting was written.\n",
    "\n",
    "For example: 'a month ago', '2 months ago', '20 days ago'. Sorting algorithm cannot comprehend 'a month ago as 1 month ago'. So, I convert all the values into number of days format.\n",
    "\n",
    "Note: Though the question was to sort by date of posting we dont know the exact date of posting. \n",
    "For example: 'one month ago' can be approximately 35 days ago or 32 days ago. So, I sorted based on the number of days itself. \n",
    "If we know exactly when the job was posted, we can subtract from datetime.date.today(), to find how many days back exactly was the job posted and sort accordingly.\n",
    "\n",
    "</font>"
   ]
  },
  {
   "cell_type": "code",
   "execution_count": 25,
   "metadata": {},
   "outputs": [],
   "source": [
    "job_tln['date_posted'] = job_tln['date_posted'].replace('a month ago','30 days ago')\n",
    "job_tln['date_posted'] = job_tln['date_posted'].replace('2 months ago','60 days ago')"
   ]
  },
  {
   "cell_type": "markdown",
   "metadata": {},
   "source": [
    "### To sort by date, we split the date_posted to get only the number of days, convert to int and then sort. "
   ]
  },
  {
   "cell_type": "code",
   "execution_count": 26,
   "metadata": {},
   "outputs": [],
   "source": [
    "f = lambda x: x['date_posted'].split(\"days\",1)[0] \n",
    "job_tln[\"keys\"] = job_tln.apply(f, axis=1).astype(int)\n",
    "job_tln.sort_values(by='keys', ascending=False, inplace = True)"
   ]
  },
  {
   "cell_type": "code",
   "execution_count": 27,
   "metadata": {},
   "outputs": [],
   "source": [
    "#drop the keys after sorting the dataframe\n",
    "job_tln.drop(['keys'], axis=1,inplace = True)"
   ]
  },
  {
   "cell_type": "markdown",
   "metadata": {},
   "source": [
    "## Final Result Dataframe."
   ]
  },
  {
   "cell_type": "code",
   "execution_count": 32,
   "metadata": {},
   "outputs": [
    {
     "data": {
      "text/html": [
       "<div>\n",
       "<style scoped>\n",
       "    .dataframe tbody tr th:only-of-type {\n",
       "        vertical-align: middle;\n",
       "    }\n",
       "\n",
       "    .dataframe tbody tr th {\n",
       "        vertical-align: top;\n",
       "    }\n",
       "\n",
       "    .dataframe thead th {\n",
       "        text-align: right;\n",
       "    }\n",
       "</style>\n",
       "<table border=\"1\" class=\"dataframe\">\n",
       "  <thead>\n",
       "    <tr style=\"text-align: right;\">\n",
       "      <th></th>\n",
       "      <th>job_name</th>\n",
       "      <th>date_posted</th>\n",
       "      <th>job_type</th>\n",
       "      <th>job_loc</th>\n",
       "      <th>exp</th>\n",
       "    </tr>\n",
       "  </thead>\n",
       "  <tbody>\n",
       "    <tr>\n",
       "      <th>0</th>\n",
       "      <td>Machine Learning Engineer</td>\n",
       "      <td>60 days ago</td>\n",
       "      <td>Full-time</td>\n",
       "      <td>Hyderabad</td>\n",
       "      <td>3-5Years</td>\n",
       "    </tr>\n",
       "    <tr>\n",
       "      <th>1</th>\n",
       "      <td>Engineering Lead</td>\n",
       "      <td>60 days ago</td>\n",
       "      <td>Full-time</td>\n",
       "      <td>Mauritius</td>\n",
       "      <td>7-18Years</td>\n",
       "    </tr>\n",
       "    <tr>\n",
       "      <th>2</th>\n",
       "      <td>Sr SDET</td>\n",
       "      <td>60 days ago</td>\n",
       "      <td>Full-time</td>\n",
       "      <td>NewYork</td>\n",
       "      <td>3-10Years</td>\n",
       "    </tr>\n",
       "    <tr>\n",
       "      <th>3</th>\n",
       "      <td>OSS DevOps Engineer</td>\n",
       "      <td>60 days ago</td>\n",
       "      <td>Full-time</td>\n",
       "      <td>Hyderabad</td>\n",
       "      <td>6-12Years</td>\n",
       "    </tr>\n",
       "    <tr>\n",
       "      <th>4</th>\n",
       "      <td>Site Reliability Engineer</td>\n",
       "      <td>60 days ago</td>\n",
       "      <td>Full-time</td>\n",
       "      <td>NewYork</td>\n",
       "      <td>1-3Years</td>\n",
       "    </tr>\n",
       "    <tr>\n",
       "      <th>5</th>\n",
       "      <td>Lead DevOps Engineer</td>\n",
       "      <td>60 days ago</td>\n",
       "      <td>Full-time</td>\n",
       "      <td>Hyderabad</td>\n",
       "      <td>5-11Years</td>\n",
       "    </tr>\n",
       "    <tr>\n",
       "      <th>6</th>\n",
       "      <td>Senior DevOps Engineer</td>\n",
       "      <td>60 days ago</td>\n",
       "      <td>Full-time</td>\n",
       "      <td>Hyderabad</td>\n",
       "      <td>3-10Years</td>\n",
       "    </tr>\n",
       "    <tr>\n",
       "      <th>7</th>\n",
       "      <td>Junior Cloud Native Developer</td>\n",
       "      <td>60 days ago</td>\n",
       "      <td>Full-time</td>\n",
       "      <td>Delaware</td>\n",
       "      <td>1-2Years</td>\n",
       "    </tr>\n",
       "    <tr>\n",
       "      <th>10</th>\n",
       "      <td>Sr Full Stack Developer</td>\n",
       "      <td>30 days ago</td>\n",
       "      <td>Full-time</td>\n",
       "      <td>Mauritius</td>\n",
       "      <td>3-8Years</td>\n",
       "    </tr>\n",
       "    <tr>\n",
       "      <th>8</th>\n",
       "      <td>Blockchain Developer</td>\n",
       "      <td>30 days ago</td>\n",
       "      <td>Full-time</td>\n",
       "      <td>Hyderabad</td>\n",
       "      <td>1-4Years</td>\n",
       "    </tr>\n",
       "    <tr>\n",
       "      <th>9</th>\n",
       "      <td>Sr SAP PI/PO Developer</td>\n",
       "      <td>30 days ago</td>\n",
       "      <td>Contract</td>\n",
       "      <td>NewJersey</td>\n",
       "      <td>7-12Years</td>\n",
       "    </tr>\n",
       "    <tr>\n",
       "      <th>11</th>\n",
       "      <td>Associate Cloud Engineer</td>\n",
       "      <td>30 days ago</td>\n",
       "      <td>Full-time</td>\n",
       "      <td>Hyderabad</td>\n",
       "      <td>0-3Years</td>\n",
       "    </tr>\n",
       "    <tr>\n",
       "      <th>12</th>\n",
       "      <td>Android Mobile Developer</td>\n",
       "      <td>30 days ago</td>\n",
       "      <td>Full-time</td>\n",
       "      <td>mauritius</td>\n",
       "      <td>3-8Years</td>\n",
       "    </tr>\n",
       "    <tr>\n",
       "      <th>14</th>\n",
       "      <td>SOA Consultant</td>\n",
       "      <td>30 days ago</td>\n",
       "      <td>Full-time</td>\n",
       "      <td>Hyderabad</td>\n",
       "      <td>0-1Years</td>\n",
       "    </tr>\n",
       "    <tr>\n",
       "      <th>15</th>\n",
       "      <td>Sr. Microservices Developer</td>\n",
       "      <td>30 days ago</td>\n",
       "      <td>Full-time</td>\n",
       "      <td>Hyderabad</td>\n",
       "      <td>4-9Years</td>\n",
       "    </tr>\n",
       "    <tr>\n",
       "      <th>13</th>\n",
       "      <td>Solution Architect</td>\n",
       "      <td>20 days ago</td>\n",
       "      <td>Full-time</td>\n",
       "      <td>Hyderabad</td>\n",
       "      <td>9-15Years</td>\n",
       "    </tr>\n",
       "    <tr>\n",
       "      <th>16</th>\n",
       "      <td>Associate QA Engineer</td>\n",
       "      <td>20 days ago</td>\n",
       "      <td>Full-time</td>\n",
       "      <td>Hyderabad</td>\n",
       "      <td>1-3Years</td>\n",
       "    </tr>\n",
       "    <tr>\n",
       "      <th>17</th>\n",
       "      <td>System Engineer</td>\n",
       "      <td>19 days ago</td>\n",
       "      <td>Internship</td>\n",
       "      <td>Mauritius</td>\n",
       "      <td>0-1Years</td>\n",
       "    </tr>\n",
       "    <tr>\n",
       "      <th>18</th>\n",
       "      <td>Networking &amp; Security Specialist</td>\n",
       "      <td>19 days ago</td>\n",
       "      <td>Full-time</td>\n",
       "      <td>Hyderabad</td>\n",
       "      <td>2-6Years</td>\n",
       "    </tr>\n",
       "    <tr>\n",
       "      <th>19</th>\n",
       "      <td>Embedded Engineer</td>\n",
       "      <td>14 days ago</td>\n",
       "      <td>Full-time</td>\n",
       "      <td>Hyderabad</td>\n",
       "      <td>2-4Years</td>\n",
       "    </tr>\n",
       "    <tr>\n",
       "      <th>20</th>\n",
       "      <td>Data Scientist Intern</td>\n",
       "      <td>13 days ago</td>\n",
       "      <td>Internship</td>\n",
       "      <td>Hyderabad</td>\n",
       "      <td>0-4Years</td>\n",
       "    </tr>\n",
       "    <tr>\n",
       "      <th>21</th>\n",
       "      <td>Cloud Native Developer</td>\n",
       "      <td>11 days ago</td>\n",
       "      <td>Full-time</td>\n",
       "      <td>Hyderabad</td>\n",
       "      <td>2-5Years</td>\n",
       "    </tr>\n",
       "    <tr>\n",
       "      <th>22</th>\n",
       "      <td>Senior Cloud Specialist</td>\n",
       "      <td>10 days ago</td>\n",
       "      <td>Full-time</td>\n",
       "      <td>Singapore</td>\n",
       "      <td>5-10Years</td>\n",
       "    </tr>\n",
       "    <tr>\n",
       "      <th>23</th>\n",
       "      <td>Big Data Intern</td>\n",
       "      <td>6 days ago</td>\n",
       "      <td>Internship</td>\n",
       "      <td>Hyderabad</td>\n",
       "      <td>0-2Years</td>\n",
       "    </tr>\n",
       "  </tbody>\n",
       "</table>\n",
       "</div>"
      ],
      "text/plain": [
       "                            job_name  date_posted    job_type    job_loc  \\\n",
       "0          Machine Learning Engineer  60 days ago   Full-time  Hyderabad   \n",
       "1                   Engineering Lead  60 days ago   Full-time  Mauritius   \n",
       "2                            Sr SDET  60 days ago   Full-time    NewYork   \n",
       "3                OSS DevOps Engineer  60 days ago   Full-time  Hyderabad   \n",
       "4          Site Reliability Engineer  60 days ago   Full-time    NewYork   \n",
       "5              Lead DevOps Engineer   60 days ago   Full-time  Hyderabad   \n",
       "6             Senior DevOps Engineer  60 days ago   Full-time  Hyderabad   \n",
       "7      Junior Cloud Native Developer  60 days ago   Full-time   Delaware   \n",
       "10           Sr Full Stack Developer  30 days ago   Full-time  Mauritius   \n",
       "8               Blockchain Developer  30 days ago   Full-time  Hyderabad   \n",
       "9             Sr SAP PI/PO Developer  30 days ago    Contract  NewJersey   \n",
       "11          Associate Cloud Engineer  30 days ago   Full-time  Hyderabad   \n",
       "12          Android Mobile Developer  30 days ago   Full-time  mauritius   \n",
       "14                    SOA Consultant  30 days ago   Full-time  Hyderabad   \n",
       "15       Sr. Microservices Developer  30 days ago   Full-time  Hyderabad   \n",
       "13                Solution Architect  20 days ago   Full-time  Hyderabad   \n",
       "16             Associate QA Engineer  20 days ago   Full-time  Hyderabad   \n",
       "17                   System Engineer  19 days ago  Internship  Mauritius   \n",
       "18  Networking & Security Specialist  19 days ago   Full-time  Hyderabad   \n",
       "19                 Embedded Engineer  14 days ago   Full-time  Hyderabad   \n",
       "20             Data Scientist Intern  13 days ago  Internship  Hyderabad   \n",
       "21            Cloud Native Developer  11 days ago   Full-time  Hyderabad   \n",
       "22           Senior Cloud Specialist  10 days ago   Full-time  Singapore   \n",
       "23                   Big Data Intern   6 days ago  Internship  Hyderabad   \n",
       "\n",
       "          exp  \n",
       "0    3-5Years  \n",
       "1   7-18Years  \n",
       "2   3-10Years  \n",
       "3   6-12Years  \n",
       "4    1-3Years  \n",
       "5   5-11Years  \n",
       "6   3-10Years  \n",
       "7    1-2Years  \n",
       "10   3-8Years  \n",
       "8    1-4Years  \n",
       "9   7-12Years  \n",
       "11   0-3Years  \n",
       "12   3-8Years  \n",
       "14   0-1Years  \n",
       "15   4-9Years  \n",
       "13  9-15Years  \n",
       "16   1-3Years  \n",
       "17   0-1Years  \n",
       "18   2-6Years  \n",
       "19   2-4Years  \n",
       "20   0-4Years  \n",
       "21   2-5Years  \n",
       "22  5-10Years  \n",
       "23   0-2Years  "
      ]
     },
     "execution_count": 32,
     "metadata": {},
     "output_type": "execute_result"
    }
   ],
   "source": [
    "job_tln"
   ]
  },
  {
   "cell_type": "markdown",
   "metadata": {},
   "source": [
    "***\n",
    "***\n",
    "***\n",
    "### Finally, we save the dataframe in a csv.\n",
    "\n",
    "Note: Please change the path accordingly."
   ]
  },
  {
   "cell_type": "code",
   "execution_count": 29,
   "metadata": {},
   "outputs": [],
   "source": [
    "csv_location = '/Volumes/ANAGHA/techolution_assignment/techolution_jobs.csv' \n",
    "job_tln.to_csv(csv_location,header = True, sep = ',')"
   ]
  },
  {
   "cell_type": "markdown",
   "metadata": {},
   "source": [
    "***\n",
    "***\n"
   ]
  },
  {
   "cell_type": "markdown",
   "metadata": {},
   "source": [
    "## **End Notes**\n",
    "\n",
    "- https://techolution.app.param.ai/jobs/ is a dynamic website. The content cannot be scraped just by using beautiful soup. So we use chromedriver to fetch the html of the webpage. \n",
    "- Other drivers also can be used based on your browser.\n",
    "- Information obtained from the job-cards was very messy and had lots of trailing spaces and \\n. Using a ***regex*** to clean the obtained data is most efficient way. \n",
    "\n",
    "### All the above code can be written without using temporary arrays, it can be consolidated in a single loop. However, to explain the process clearly, I used many arrays and then filled in an empty dataframe. \n",
    "- Coming to sorting by date, the only way to sort a list such as ['a month ago','2 months ago','10 days ago','20 days ago'...etc] is to convert to ***one scale*** . So, I converted all of them to ***days scale***. Sorting can be shown in a single line, in place by taking the first split of the string. Again, just to explain clearly, I divided it into a lot of steps. \n",
    "- As said in the code as well, we cannot sort by ***exact date***. For example: 'a month ago' can be 30 days or 35 days or 40 days. If were not an approximation, datetime.date.now() can be subtracted from the date of posting to obtain an accurate sorting!\n",
    "- As a future scope, ***phantom js*** can be used, to also get the url of the job posting.\n",
    "\n",
    "\n"
   ]
  },
  {
   "cell_type": "markdown",
   "metadata": {},
   "source": [
    "***\n",
    "***\n",
    "#### Thanks & Regards, \n",
    "#### Anagha Karanam\n",
    "#### 15th April 2019\n",
    "#### email: anaghakaranam@gmail.com\n",
    "#### linkedin: https://www.linkedin.com/in/anaghakaranam/"
   ]
  }
 ],
 "metadata": {
  "kernelspec": {
   "display_name": "Python 3",
   "language": "python",
   "name": "python3"
  },
  "language_info": {
   "codemirror_mode": {
    "name": "ipython",
    "version": 3
   },
   "file_extension": ".py",
   "mimetype": "text/x-python",
   "name": "python",
   "nbconvert_exporter": "python",
   "pygments_lexer": "ipython3",
   "version": "3.7.1"
  }
 },
 "nbformat": 4,
 "nbformat_minor": 1
}
